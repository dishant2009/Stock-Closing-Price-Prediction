{
 "cells": [
  {
   "cell_type": "markdown",
   "id": "8256fa94",
   "metadata": {},
   "source": [
    "# IMPORTING THE LIBRARIES"
   ]
  },
  {
   "cell_type": "code",
   "execution_count": 3,
   "id": "66457bc4",
   "metadata": {},
   "outputs": [],
   "source": [
    "import pandas as pd\n",
    "import numpy as np\n",
    "from sklearn.model_selection import train_test_split \n",
    "import matplotlib.pyplot as plt"
   ]
  },
  {
   "cell_type": "markdown",
   "id": "12cfaf10",
   "metadata": {},
   "source": [
    "# IMPORTING THE DATASETS"
   ]
  },
  {
   "cell_type": "code",
   "execution_count": 4,
   "id": "65f43e82",
   "metadata": {},
   "outputs": [],
   "source": [
    "df_train = pd.read_csv(\"stocknet_trn_data-2.csv\")\n",
    "df_target = pd.read_csv(\"stocknet_trn_data_targets.csv\", header=None)\n",
    "df_test = pd.read_csv(\"stocknet_tst_data-2.csv\")"
   ]
  },
  {
   "cell_type": "markdown",
   "id": "a4bbe3ee",
   "metadata": {},
   "source": [
    "# EXPLORING THE DATASETS"
   ]
  },
  {
   "cell_type": "code",
   "execution_count": 5,
   "id": "4497338b",
   "metadata": {},
   "outputs": [
    {
     "data": {
      "text/html": [
       "<div>\n",
       "<style scoped>\n",
       "    .dataframe tbody tr th:only-of-type {\n",
       "        vertical-align: middle;\n",
       "    }\n",
       "\n",
       "    .dataframe tbody tr th {\n",
       "        vertical-align: top;\n",
       "    }\n",
       "\n",
       "    .dataframe thead th {\n",
       "        text-align: right;\n",
       "    }\n",
       "</style>\n",
       "<table border=\"1\" class=\"dataframe\">\n",
       "  <thead>\n",
       "    <tr style=\"text-align: right;\">\n",
       "      <th></th>\n",
       "      <th>Open</th>\n",
       "      <th>High</th>\n",
       "      <th>Low</th>\n",
       "      <th>Volume</th>\n",
       "    </tr>\n",
       "  </thead>\n",
       "  <tbody>\n",
       "    <tr>\n",
       "      <th>0</th>\n",
       "      <td>75.430000</td>\n",
       "      <td>75.910004</td>\n",
       "      <td>75.139999</td>\n",
       "      <td>3436700.0</td>\n",
       "    </tr>\n",
       "    <tr>\n",
       "      <th>1</th>\n",
       "      <td>124.930000</td>\n",
       "      <td>124.940002</td>\n",
       "      <td>124.169998</td>\n",
       "      <td>2366700.0</td>\n",
       "    </tr>\n",
       "    <tr>\n",
       "      <th>2</th>\n",
       "      <td>84.339996</td>\n",
       "      <td>84.370003</td>\n",
       "      <td>82.370003</td>\n",
       "      <td>11338700.0</td>\n",
       "    </tr>\n",
       "    <tr>\n",
       "      <th>3</th>\n",
       "      <td>56.770000</td>\n",
       "      <td>57.150002</td>\n",
       "      <td>56.529999</td>\n",
       "      <td>413300.0</td>\n",
       "    </tr>\n",
       "    <tr>\n",
       "      <th>4</th>\n",
       "      <td>47.419998</td>\n",
       "      <td>48.090000</td>\n",
       "      <td>46.759998</td>\n",
       "      <td>9531100.0</td>\n",
       "    </tr>\n",
       "  </tbody>\n",
       "</table>\n",
       "</div>"
      ],
      "text/plain": [
       "         Open        High         Low      Volume\n",
       "0   75.430000   75.910004   75.139999   3436700.0\n",
       "1  124.930000  124.940002  124.169998   2366700.0\n",
       "2   84.339996   84.370003   82.370003  11338700.0\n",
       "3   56.770000   57.150002   56.529999    413300.0\n",
       "4   47.419998   48.090000   46.759998   9531100.0"
      ]
     },
     "execution_count": 5,
     "metadata": {},
     "output_type": "execute_result"
    }
   ],
   "source": [
    "df_train.head()"
   ]
  },
  {
   "cell_type": "code",
   "execution_count": 6,
   "id": "c9d6172d",
   "metadata": {},
   "outputs": [
    {
     "data": {
      "text/html": [
       "<div>\n",
       "<style scoped>\n",
       "    .dataframe tbody tr th:only-of-type {\n",
       "        vertical-align: middle;\n",
       "    }\n",
       "\n",
       "    .dataframe tbody tr th {\n",
       "        vertical-align: top;\n",
       "    }\n",
       "\n",
       "    .dataframe thead th {\n",
       "        text-align: right;\n",
       "    }\n",
       "</style>\n",
       "<table border=\"1\" class=\"dataframe\">\n",
       "  <thead>\n",
       "    <tr style=\"text-align: right;\">\n",
       "      <th></th>\n",
       "      <th>0</th>\n",
       "      <th>1</th>\n",
       "    </tr>\n",
       "  </thead>\n",
       "  <tbody>\n",
       "    <tr>\n",
       "      <th>0</th>\n",
       "      <td>d1</td>\n",
       "      <td>75.650002</td>\n",
       "    </tr>\n",
       "    <tr>\n",
       "      <th>1</th>\n",
       "      <td>d2</td>\n",
       "      <td>124.449997</td>\n",
       "    </tr>\n",
       "    <tr>\n",
       "      <th>2</th>\n",
       "      <td>d3</td>\n",
       "      <td>82.660004</td>\n",
       "    </tr>\n",
       "    <tr>\n",
       "      <th>3</th>\n",
       "      <td>d4</td>\n",
       "      <td>57.009998</td>\n",
       "    </tr>\n",
       "    <tr>\n",
       "      <th>4</th>\n",
       "      <td>d5</td>\n",
       "      <td>47.860001</td>\n",
       "    </tr>\n",
       "  </tbody>\n",
       "</table>\n",
       "</div>"
      ],
      "text/plain": [
       "    0           1\n",
       "0  d1   75.650002\n",
       "1  d2  124.449997\n",
       "2  d3   82.660004\n",
       "3  d4   57.009998\n",
       "4  d5   47.860001"
      ]
     },
     "execution_count": 6,
     "metadata": {},
     "output_type": "execute_result"
    }
   ],
   "source": [
    "df_target.head()"
   ]
  },
  {
   "cell_type": "code",
   "execution_count": 7,
   "id": "dbdf799d",
   "metadata": {},
   "outputs": [
    {
     "name": "stdout",
     "output_type": "stream",
     "text": [
      "<class 'pandas.core.frame.DataFrame'>\n",
      "RangeIndex: 97732 entries, 0 to 97731\n",
      "Data columns (total 4 columns):\n",
      " #   Column  Non-Null Count  Dtype  \n",
      "---  ------  --------------  -----  \n",
      " 0   Open    97729 non-null  float64\n",
      " 1   High    97729 non-null  float64\n",
      " 2   Low     97729 non-null  float64\n",
      " 3   Volume  97729 non-null  float64\n",
      "dtypes: float64(4)\n",
      "memory usage: 3.0 MB\n"
     ]
    }
   ],
   "source": [
    "df_train.info()"
   ]
  },
  {
   "cell_type": "markdown",
   "id": "5cece936",
   "metadata": {},
   "source": [
    "**we see that each feature has 97729 non-null values**"
   ]
  },
  {
   "cell_type": "code",
   "execution_count": 8,
   "id": "f1a8b786",
   "metadata": {},
   "outputs": [
    {
     "data": {
      "text/html": [
       "<div>\n",
       "<style scoped>\n",
       "    .dataframe tbody tr th:only-of-type {\n",
       "        vertical-align: middle;\n",
       "    }\n",
       "\n",
       "    .dataframe tbody tr th {\n",
       "        vertical-align: top;\n",
       "    }\n",
       "\n",
       "    .dataframe thead th {\n",
       "        text-align: right;\n",
       "    }\n",
       "</style>\n",
       "<table border=\"1\" class=\"dataframe\">\n",
       "  <thead>\n",
       "    <tr style=\"text-align: right;\">\n",
       "      <th></th>\n",
       "      <th>Open</th>\n",
       "      <th>High</th>\n",
       "      <th>Low</th>\n",
       "      <th>Volume</th>\n",
       "    </tr>\n",
       "  </thead>\n",
       "  <tbody>\n",
       "    <tr>\n",
       "      <th>count</th>\n",
       "      <td>97729.000000</td>\n",
       "      <td>97729.000000</td>\n",
       "      <td>97729.000000</td>\n",
       "      <td>9.772900e+04</td>\n",
       "    </tr>\n",
       "    <tr>\n",
       "      <th>mean</th>\n",
       "      <td>2427.661341</td>\n",
       "      <td>2439.557429</td>\n",
       "      <td>2413.965223</td>\n",
       "      <td>9.064781e+06</td>\n",
       "    </tr>\n",
       "    <tr>\n",
       "      <th>std</th>\n",
       "      <td>21797.841949</td>\n",
       "      <td>21900.340643</td>\n",
       "      <td>21678.006665</td>\n",
       "      <td>1.800910e+07</td>\n",
       "    </tr>\n",
       "    <tr>\n",
       "      <th>min</th>\n",
       "      <td>2.130000</td>\n",
       "      <td>2.280000</td>\n",
       "      <td>1.960000</td>\n",
       "      <td>0.000000e+00</td>\n",
       "    </tr>\n",
       "    <tr>\n",
       "      <th>25%</th>\n",
       "      <td>40.450001</td>\n",
       "      <td>40.730000</td>\n",
       "      <td>40.180000</td>\n",
       "      <td>1.198000e+06</td>\n",
       "    </tr>\n",
       "    <tr>\n",
       "      <th>50%</th>\n",
       "      <td>65.959999</td>\n",
       "      <td>66.489998</td>\n",
       "      <td>65.459999</td>\n",
       "      <td>3.544600e+06</td>\n",
       "    </tr>\n",
       "    <tr>\n",
       "      <th>75%</th>\n",
       "      <td>97.669998</td>\n",
       "      <td>98.470001</td>\n",
       "      <td>96.930000</td>\n",
       "      <td>8.996400e+06</td>\n",
       "    </tr>\n",
       "    <tr>\n",
       "      <th>max</th>\n",
       "      <td>272800.000000</td>\n",
       "      <td>272885.000000</td>\n",
       "      <td>271040.000000</td>\n",
       "      <td>6.166205e+08</td>\n",
       "    </tr>\n",
       "  </tbody>\n",
       "</table>\n",
       "</div>"
      ],
      "text/plain": [
       "                Open           High            Low        Volume\n",
       "count   97729.000000   97729.000000   97729.000000  9.772900e+04\n",
       "mean     2427.661341    2439.557429    2413.965223  9.064781e+06\n",
       "std     21797.841949   21900.340643   21678.006665  1.800910e+07\n",
       "min         2.130000       2.280000       1.960000  0.000000e+00\n",
       "25%        40.450001      40.730000      40.180000  1.198000e+06\n",
       "50%        65.959999      66.489998      65.459999  3.544600e+06\n",
       "75%        97.669998      98.470001      96.930000  8.996400e+06\n",
       "max    272800.000000  272885.000000  271040.000000  6.166205e+08"
      ]
     },
     "execution_count": 8,
     "metadata": {},
     "output_type": "execute_result"
    }
   ],
   "source": [
    "df_train.describe()"
   ]
  },
  {
   "cell_type": "markdown",
   "id": "3d3ea266",
   "metadata": {},
   "source": [
    "we see that the stock prices vary from a minimum of 2.13 dollar of a stock to 272800 dollar. "
   ]
  },
  {
   "cell_type": "code",
   "execution_count": 9,
   "id": "ef7e5203",
   "metadata": {
    "scrolled": true
   },
   "outputs": [
    {
     "name": "stdout",
     "output_type": "stream",
     "text": [
      "<class 'pandas.core.frame.DataFrame'>\n",
      "RangeIndex: 97732 entries, 0 to 97731\n",
      "Data columns (total 2 columns):\n",
      " #   Column  Non-Null Count  Dtype  \n",
      "---  ------  --------------  -----  \n",
      " 0   0       97732 non-null  object \n",
      " 1   1       97729 non-null  float64\n",
      "dtypes: float64(1), object(1)\n",
      "memory usage: 1.5+ MB\n"
     ]
    }
   ],
   "source": [
    "df_target.info()"
   ]
  },
  {
   "cell_type": "code",
   "execution_count": 10,
   "id": "e930ab51",
   "metadata": {},
   "outputs": [
    {
     "data": {
      "text/html": [
       "<div>\n",
       "<style scoped>\n",
       "    .dataframe tbody tr th:only-of-type {\n",
       "        vertical-align: middle;\n",
       "    }\n",
       "\n",
       "    .dataframe tbody tr th {\n",
       "        vertical-align: top;\n",
       "    }\n",
       "\n",
       "    .dataframe thead th {\n",
       "        text-align: right;\n",
       "    }\n",
       "</style>\n",
       "<table border=\"1\" class=\"dataframe\">\n",
       "  <thead>\n",
       "    <tr style=\"text-align: right;\">\n",
       "      <th></th>\n",
       "      <th>1</th>\n",
       "    </tr>\n",
       "  </thead>\n",
       "  <tbody>\n",
       "    <tr>\n",
       "      <th>count</th>\n",
       "      <td>97729.000000</td>\n",
       "    </tr>\n",
       "    <tr>\n",
       "      <th>mean</th>\n",
       "      <td>2427.381769</td>\n",
       "    </tr>\n",
       "    <tr>\n",
       "      <th>std</th>\n",
       "      <td>21794.748626</td>\n",
       "    </tr>\n",
       "    <tr>\n",
       "      <th>min</th>\n",
       "      <td>2.020000</td>\n",
       "    </tr>\n",
       "    <tr>\n",
       "      <th>25%</th>\n",
       "      <td>40.459999</td>\n",
       "    </tr>\n",
       "    <tr>\n",
       "      <th>50%</th>\n",
       "      <td>66.010002</td>\n",
       "    </tr>\n",
       "    <tr>\n",
       "      <th>75%</th>\n",
       "      <td>97.669998</td>\n",
       "    </tr>\n",
       "    <tr>\n",
       "      <th>max</th>\n",
       "      <td>271062.000000</td>\n",
       "    </tr>\n",
       "  </tbody>\n",
       "</table>\n",
       "</div>"
      ],
      "text/plain": [
       "                   1\n",
       "count   97729.000000\n",
       "mean     2427.381769\n",
       "std     21794.748626\n",
       "min         2.020000\n",
       "25%        40.459999\n",
       "50%        66.010002\n",
       "75%        97.669998\n",
       "max    271062.000000"
      ]
     },
     "execution_count": 10,
     "metadata": {},
     "output_type": "execute_result"
    }
   ],
   "source": [
    "df_target.describe()"
   ]
  },
  {
   "cell_type": "markdown",
   "id": "3fa1f808",
   "metadata": {},
   "source": [
    "we see that in the index column there are 97732 entries while in the column containing the prices has 97729 entires."
   ]
  },
  {
   "cell_type": "code",
   "execution_count": 11,
   "id": "73d15a54",
   "metadata": {
    "scrolled": true
   },
   "outputs": [
    {
     "data": {
      "text/plain": [
       "[<matplotlib.lines.Line2D at 0x7f83eba7b700>]"
      ]
     },
     "execution_count": 11,
     "metadata": {},
     "output_type": "execute_result"
    },
    {
     "data": {
      "image/png": "[encoded data removed]",
      "text/plain": [
       "<Figure size 1152x576 with 1 Axes>"
      ]
     },
     "metadata": {
      "needs_background": "light"
     },
     "output_type": "display_data"
    }
   ],
   "source": [
    "plt.figure(figsize=(16,8))\n",
    "plt.plot(df_train[\"Open\"],label='Open Price history')"
   ]
  },
  {
   "cell_type": "code",
   "execution_count": 12,
   "id": "74401050",
   "metadata": {},
   "outputs": [
    {
     "data": {
      "image/png": "[encoded data removed]",
      "text/plain": [
       "<Figure size 432x288 with 2 Axes>"
      ]
     },
     "metadata": {
      "needs_background": "light"
     },
     "output_type": "display_data"
    }
   ],
   "source": [
    "import seaborn as sns\n",
    "ax = sns.heatmap(df_train.corr(), annot=True)"
   ]
  },
  {
   "cell_type": "markdown",
   "id": "d5c13d3d",
   "metadata": {},
   "source": [
    "We see that the correlation between the open,high,low is 1. 1 indicates a perfectly positive linear correlation between two variables."
   ]
  },
  {
   "cell_type": "code",
   "execution_count": 13,
   "id": "91f25045",
   "metadata": {},
   "outputs": [],
   "source": [
    "X = df_train\n",
    "y= df_target.iloc[:,1]"
   ]
  },
  {
   "cell_type": "code",
   "execution_count": 14,
   "id": "59bbcb1e",
   "metadata": {
    "scrolled": true
   },
   "outputs": [
    {
     "name": "stdout",
     "output_type": "stream",
     "text": [
      "(97732, 4) (97732,)\n"
     ]
    }
   ],
   "source": [
    "print(X.shape,y.shape)"
   ]
  },
  {
   "cell_type": "code",
   "execution_count": 15,
   "id": "f7392b09",
   "metadata": {},
   "outputs": [],
   "source": [
    "X = X.dropna()\n",
    "y = y.dropna()"
   ]
  },
  {
   "cell_type": "code",
   "execution_count": 16,
   "id": "fe6d6d19",
   "metadata": {},
   "outputs": [],
   "source": [
    "from sklearn.model_selection import train_test_split\n",
    "X_train, X_test, y_train, y_test = train_test_split(X, y, test_size=0.20,random_state = 42)"
   ]
  },
  {
   "cell_type": "markdown",
   "id": "f8adb237",
   "metadata": {},
   "source": [
    "## FEATURE SELECTION FOR LINEAR REGRESSION MODEL"
   ]
  },
  {
   "cell_type": "code",
   "execution_count": 17,
   "id": "854644ee",
   "metadata": {},
   "outputs": [
    {
     "name": "stdout",
     "output_type": "stream",
     "text": [
      "Feature 0: 1539337061.918892\n",
      "Feature 1: 3601959825.537310\n",
      "Feature 2: 3164765254.539999\n",
      "Feature 3: 230.777136\n"
     ]
    },
    {
     "data": {
      "image/png": "[encoded data removed]",
      "text/plain": [
       "<Figure size 432x288 with 1 Axes>"
      ]
     },
     "metadata": {
      "needs_background": "light"
     },
     "output_type": "display_data"
    }
   ],
   "source": [
    "\n",
    "from sklearn.datasets import make_regression\n",
    "from sklearn.model_selection import train_test_split\n",
    "from sklearn.feature_selection import SelectKBest\n",
    "from sklearn.feature_selection import f_regression\n",
    "from matplotlib import pyplot\n",
    " \n",
    "\n",
    "def select_features(X_train, y_train, X_test):\n",
    "\n",
    "    fs = SelectKBest(score_func=f_regression, k='all')\n",
    "    fs.fit(X_train, y_train)\n",
    "    # transform train input data\n",
    "    X_train_fs = fs.transform(X_train)\n",
    "    # transform test input data\n",
    "    X_test_fs = fs.transform(X_test)\n",
    "    return X_train_fs, X_test_fs, fs\n",
    "\n",
    "\n",
    "X_train_fs, X_test_fs, fs = select_features(X_train, y_train, X_test)\n",
    "# what are scores for the features\n",
    "for i in range(len(fs.scores_)):\n",
    "    print('Feature %d: %f' % (i, fs.scores_[i]))\n",
    "# plot the scores\n",
    "pyplot.bar([i for i in range(len(fs.scores_))], fs.scores_)\n",
    "pyplot.show()"
   ]
  },
  {
   "cell_type": "code",
   "execution_count": 18,
   "id": "927d0b55",
   "metadata": {},
   "outputs": [
    {
     "data": {
      "text/plain": [
       "LinearRegression()"
      ]
     },
     "execution_count": 18,
     "metadata": {},
     "output_type": "execute_result"
    }
   ],
   "source": [
    "from sklearn.linear_model import LinearRegression\n",
    "Linear = LinearRegression()\n",
    "Linear.fit(X_train,y_train)"
   ]
  },
  {
   "cell_type": "code",
   "execution_count": 19,
   "id": "159bfd11",
   "metadata": {},
   "outputs": [],
   "source": [
    "y_pred= Linear.predict(X_test)  "
   ]
  },
  {
   "cell_type": "code",
   "execution_count": 20,
   "id": "f1c65372",
   "metadata": {},
   "outputs": [
    {
     "name": "stdout",
     "output_type": "stream",
     "text": [
      "Train Score:  0.999988675498941\n",
      "Test Score:  0.9999912850197161\n"
     ]
    }
   ],
   "source": [
    "print('Train Score: ', Linear.score(X_train, y_train))  \n",
    "print('Test Score: ', Linear.score(X_test, y_test)) "
   ]
  },
  {
   "cell_type": "code",
   "execution_count": 21,
   "id": "ddc63afb",
   "metadata": {},
   "outputs": [],
   "source": [
    "data1 = pd.DataFrame({'Actual': y_test, 'Predicted' : y_pred})"
   ]
  },
  {
   "cell_type": "code",
   "execution_count": 22,
   "id": "3360f6c2",
   "metadata": {},
   "outputs": [
    {
     "data": {
      "text/html": [
       "<div>\n",
       "<style scoped>\n",
       "    .dataframe tbody tr th:only-of-type {\n",
       "        vertical-align: middle;\n",
       "    }\n",
       "\n",
       "    .dataframe tbody tr th {\n",
       "        vertical-align: top;\n",
       "    }\n",
       "\n",
       "    .dataframe thead th {\n",
       "        text-align: right;\n",
       "    }\n",
       "</style>\n",
       "<table border=\"1\" class=\"dataframe\">\n",
       "  <thead>\n",
       "    <tr style=\"text-align: right;\">\n",
       "      <th></th>\n",
       "      <th>Actual</th>\n",
       "      <th>Predicted</th>\n",
       "    </tr>\n",
       "  </thead>\n",
       "  <tbody>\n",
       "    <tr>\n",
       "      <th>35030</th>\n",
       "      <td>1357.790039</td>\n",
       "      <td>1356.738326</td>\n",
       "    </tr>\n",
       "    <tr>\n",
       "      <th>49854</th>\n",
       "      <td>101.209999</td>\n",
       "      <td>100.616831</td>\n",
       "    </tr>\n",
       "    <tr>\n",
       "      <th>85068</th>\n",
       "      <td>58.810001</td>\n",
       "      <td>58.448642</td>\n",
       "    </tr>\n",
       "    <tr>\n",
       "      <th>5864</th>\n",
       "      <td>131.130005</td>\n",
       "      <td>130.956207</td>\n",
       "    </tr>\n",
       "    <tr>\n",
       "      <th>64540</th>\n",
       "      <td>19.030001</td>\n",
       "      <td>19.113305</td>\n",
       "    </tr>\n",
       "    <tr>\n",
       "      <th>...</th>\n",
       "      <td>...</td>\n",
       "      <td>...</td>\n",
       "    </tr>\n",
       "    <tr>\n",
       "      <th>30303</th>\n",
       "      <td>113.330002</td>\n",
       "      <td>113.941679</td>\n",
       "    </tr>\n",
       "    <tr>\n",
       "      <th>55385</th>\n",
       "      <td>185.309998</td>\n",
       "      <td>186.325347</td>\n",
       "    </tr>\n",
       "    <tr>\n",
       "      <th>54408</th>\n",
       "      <td>71.809998</td>\n",
       "      <td>71.745474</td>\n",
       "    </tr>\n",
       "    <tr>\n",
       "      <th>49435</th>\n",
       "      <td>26.750000</td>\n",
       "      <td>26.613362</td>\n",
       "    </tr>\n",
       "    <tr>\n",
       "      <th>31354</th>\n",
       "      <td>75.160004</td>\n",
       "      <td>75.178260</td>\n",
       "    </tr>\n",
       "  </tbody>\n",
       "</table>\n",
       "<p>19546 rows × 2 columns</p>\n",
       "</div>"
      ],
      "text/plain": [
       "            Actual    Predicted\n",
       "35030  1357.790039  1356.738326\n",
       "49854   101.209999   100.616831\n",
       "85068    58.810001    58.448642\n",
       "5864    131.130005   130.956207\n",
       "64540    19.030001    19.113305\n",
       "...            ...          ...\n",
       "30303   113.330002   113.941679\n",
       "55385   185.309998   186.325347\n",
       "54408    71.809998    71.745474\n",
       "49435    26.750000    26.613362\n",
       "31354    75.160004    75.178260\n",
       "\n",
       "[19546 rows x 2 columns]"
      ]
     },
     "execution_count": 22,
     "metadata": {},
     "output_type": "execute_result"
    }
   ],
   "source": [
    "data1"
   ]
  },
  {
   "cell_type": "markdown",
   "id": "16996d0f",
   "metadata": {},
   "source": [
    "# EVALUATION OF OUR MODEL"
   ]
  },
  {
   "cell_type": "markdown",
   "id": "1c60b4f8",
   "metadata": {},
   "source": [
    "## MSE "
   ]
  },
  {
   "cell_type": "code",
   "execution_count": 23,
   "id": "ee5b2f45",
   "metadata": {},
   "outputs": [],
   "source": [
    "error = np.sum(np.sqrt((y_pred - y_test)**2))/(X_test.shape[0])"
   ]
  },
  {
   "cell_type": "code",
   "execution_count": 24,
   "id": "fea30e4d",
   "metadata": {},
   "outputs": [
    {
     "data": {
      "text/plain": [
       "4234.895335741074"
      ]
     },
     "execution_count": 24,
     "metadata": {},
     "output_type": "execute_result"
    }
   ],
   "source": [
    "error_squared = np.sum((y_pred - y_test)**2)/(X_test.shape[0])\n",
    "error_squared"
   ]
  },
  {
   "cell_type": "code",
   "execution_count": 25,
   "id": "2590eab2",
   "metadata": {},
   "outputs": [
    {
     "name": "stdout",
     "output_type": "stream",
     "text": [
      "0.003651962914036215\n"
     ]
    }
   ],
   "source": [
    "from sklearn.metrics import accuracy_score,mean_absolute_percentage_error\n",
    "error_sc = mean_absolute_percentage_error(y_pred,y_test)\n",
    "print(error_sc)"
   ]
  },
  {
   "cell_type": "code",
   "execution_count": 26,
   "id": "e7d824bc",
   "metadata": {},
   "outputs": [],
   "source": [
    "accuracy = 100 - sum(((abs(y_pred - y_test)/y_test)*100))/X_test.shape[0]"
   ]
  },
  {
   "cell_type": "code",
   "execution_count": 27,
   "id": "8cdbdd43",
   "metadata": {},
   "outputs": [
    {
     "data": {
      "text/plain": [
       "99.63511744786663"
      ]
     },
     "execution_count": 27,
     "metadata": {},
     "output_type": "execute_result"
    }
   ],
   "source": [
    "accuracy"
   ]
  },
  {
   "cell_type": "code",
   "execution_count": 28,
   "id": "3f07b953",
   "metadata": {},
   "outputs": [
    {
     "name": "stdout",
     "output_type": "stream",
     "text": [
      "Mean Absolute Error: 5.8846671624926055\n",
      "Mean Squared Error: 4234.895335741074\n",
      "Root Mean Squared Error: 65.07607345054765\n"
     ]
    }
   ],
   "source": [
    "import sklearn.metrics as metrics\n",
    "import math\n",
    "print('Mean Absolute Error:', metrics.mean_absolute_error(y_test,y_pred))\n",
    "print('Mean Squared Error:', metrics.mean_squared_error(y_test,y_pred))\n",
    "print('Root Mean Squared Error:', math.sqrt(metrics.mean_squared_error(y_test,y_pred)))"
   ]
  },
  {
   "cell_type": "markdown",
   "id": "961c8063",
   "metadata": {},
   "source": [
    "# Lasso regression"
   ]
  },
  {
   "cell_type": "code",
   "execution_count": 27,
   "id": "334f0875",
   "metadata": {},
   "outputs": [],
   "source": [
    "from sklearn.model_selection import cross_val_score\n",
    "from sklearn.model_selection import RepeatedKFold\n",
    "from sklearn.linear_model import Lasso"
   ]
  },
  {
   "cell_type": "code",
   "execution_count": 29,
   "id": "36be6945",
   "metadata": {},
   "outputs": [
    {
     "data": {
      "text/plain": [
       "Index(['Open', 'High', 'Low', 'Volume'], dtype='object')"
      ]
     },
     "execution_count": 29,
     "metadata": {},
     "output_type": "execute_result"
    }
   ],
   "source": [
    "list_numerical = X.columns\n",
    "list_numerical"
   ]
  },
  {
   "cell_type": "code",
   "execution_count": 30,
   "id": "f1b328bc",
   "metadata": {},
   "outputs": [],
   "source": [
    "from sklearn.model_selection import train_test_split\n",
    "X_train, X_test, y_train, y_test = train_test_split(X, y, test_size=0.20,random_state = 42)"
   ]
  },
  {
   "cell_type": "markdown",
   "id": "571df6b9",
   "metadata": {},
   "source": [
    "## Standardization"
   ]
  },
  {
   "cell_type": "markdown",
   "id": "c9ce2ad7",
   "metadata": {},
   "source": [
    "**Lasso performs best when all numerical features are centered around 0 and have variance in the same order.**"
   ]
  },
  {
   "cell_type": "code",
   "execution_count": 31,
   "id": "45b756d9",
   "metadata": {},
   "outputs": [
    {
     "name": "stderr",
     "output_type": "stream",
     "text": [
      "<ipython-input-31-0760f926d483>:5: SettingWithCopyWarning: \n",
      "A value is trying to be set on a copy of a slice from a DataFrame.\n",
      "Try using .loc[row_indexer,col_indexer] = value instead\n",
      "\n",
      "See the caveats in the documentation: https://pandas.pydata.org/pandas-docs/stable/user_guide/indexing.html#returning-a-view-versus-a-copy\n",
      "  X_train[list_numerical] = scaler.transform(X_train[list_numerical])\n",
      "/Users/dishantdigdarshi/opt/anaconda3/lib/python3.8/site-packages/pandas/core/indexing.py:1637: SettingWithCopyWarning: \n",
      "A value is trying to be set on a copy of a slice from a DataFrame\n",
      "\n",
      "See the caveats in the documentation: https://pandas.pydata.org/pandas-docs/stable/user_guide/indexing.html#returning-a-view-versus-a-copy\n",
      "  self._setitem_single_block(indexer, value, name)\n",
      "/Users/dishantdigdarshi/opt/anaconda3/lib/python3.8/site-packages/pandas/core/indexing.py:692: SettingWithCopyWarning: \n",
      "A value is trying to be set on a copy of a slice from a DataFrame\n",
      "\n",
      "See the caveats in the documentation: https://pandas.pydata.org/pandas-docs/stable/user_guide/indexing.html#returning-a-view-versus-a-copy\n",
      "  iloc._setitem_with_indexer(indexer, value, self.name)\n",
      "<ipython-input-31-0760f926d483>:7: SettingWithCopyWarning: \n",
      "A value is trying to be set on a copy of a slice from a DataFrame.\n",
      "Try using .loc[row_indexer,col_indexer] = value instead\n",
      "\n",
      "See the caveats in the documentation: https://pandas.pydata.org/pandas-docs/stable/user_guide/indexing.html#returning-a-view-versus-a-copy\n",
      "  X_test[list_numerical] = scaler.transform(X_test[list_numerical])\n",
      "/Users/dishantdigdarshi/opt/anaconda3/lib/python3.8/site-packages/pandas/core/indexing.py:1637: SettingWithCopyWarning: \n",
      "A value is trying to be set on a copy of a slice from a DataFrame\n",
      "\n",
      "See the caveats in the documentation: https://pandas.pydata.org/pandas-docs/stable/user_guide/indexing.html#returning-a-view-versus-a-copy\n",
      "  self._setitem_single_block(indexer, value, name)\n",
      "/Users/dishantdigdarshi/opt/anaconda3/lib/python3.8/site-packages/pandas/core/indexing.py:692: SettingWithCopyWarning: \n",
      "A value is trying to be set on a copy of a slice from a DataFrame\n",
      "\n",
      "See the caveats in the documentation: https://pandas.pydata.org/pandas-docs/stable/user_guide/indexing.html#returning-a-view-versus-a-copy\n",
      "  iloc._setitem_with_indexer(indexer, value, self.name)\n"
     ]
    }
   ],
   "source": [
    "\n",
    "from sklearn.preprocessing import StandardScaler\n",
    "\n",
    "scaler = StandardScaler().fit(X_train[list_numerical]) \n",
    "\n",
    "X_train[list_numerical] = scaler.transform(X_train[list_numerical])\n",
    "\n",
    "X_test[list_numerical] = scaler.transform(X_test[list_numerical])"
   ]
  },
  {
   "cell_type": "code",
   "execution_count": 32,
   "id": "c2f80d4e",
   "metadata": {},
   "outputs": [
    {
     "data": {
      "text/html": [
       "<div>\n",
       "<style scoped>\n",
       "    .dataframe tbody tr th:only-of-type {\n",
       "        vertical-align: middle;\n",
       "    }\n",
       "\n",
       "    .dataframe tbody tr th {\n",
       "        vertical-align: top;\n",
       "    }\n",
       "\n",
       "    .dataframe thead th {\n",
       "        text-align: right;\n",
       "    }\n",
       "</style>\n",
       "<table border=\"1\" class=\"dataframe\">\n",
       "  <thead>\n",
       "    <tr style=\"text-align: right;\">\n",
       "      <th></th>\n",
       "      <th>Open</th>\n",
       "      <th>High</th>\n",
       "      <th>Low</th>\n",
       "      <th>Volume</th>\n",
       "    </tr>\n",
       "  </thead>\n",
       "  <tbody>\n",
       "    <tr>\n",
       "      <th>74419</th>\n",
       "      <td>-0.107833</td>\n",
       "      <td>-0.107848</td>\n",
       "      <td>-0.107826</td>\n",
       "      <td>-0.492653</td>\n",
       "    </tr>\n",
       "    <tr>\n",
       "      <th>74101</th>\n",
       "      <td>-0.097226</td>\n",
       "      <td>-0.097177</td>\n",
       "      <td>-0.097220</td>\n",
       "      <td>-0.305865</td>\n",
       "    </tr>\n",
       "    <tr>\n",
       "      <th>47249</th>\n",
       "      <td>-0.104895</td>\n",
       "      <td>-0.104890</td>\n",
       "      <td>-0.104875</td>\n",
       "      <td>-0.432678</td>\n",
       "    </tr>\n",
       "    <tr>\n",
       "      <th>29691</th>\n",
       "      <td>-0.107889</td>\n",
       "      <td>-0.107876</td>\n",
       "      <td>-0.107880</td>\n",
       "      <td>-0.407121</td>\n",
       "    </tr>\n",
       "    <tr>\n",
       "      <th>26840</th>\n",
       "      <td>-0.106447</td>\n",
       "      <td>-0.106488</td>\n",
       "      <td>-0.106430</td>\n",
       "      <td>-0.200103</td>\n",
       "    </tr>\n",
       "  </tbody>\n",
       "</table>\n",
       "</div>"
      ],
      "text/plain": [
       "           Open      High       Low    Volume\n",
       "74419 -0.107833 -0.107848 -0.107826 -0.492653\n",
       "74101 -0.097226 -0.097177 -0.097220 -0.305865\n",
       "47249 -0.104895 -0.104890 -0.104875 -0.432678\n",
       "29691 -0.107889 -0.107876 -0.107880 -0.407121\n",
       "26840 -0.106447 -0.106488 -0.106430 -0.200103"
      ]
     },
     "execution_count": 32,
     "metadata": {},
     "output_type": "execute_result"
    }
   ],
   "source": [
    "X_train.head()"
   ]
  },
  {
   "cell_type": "markdown",
   "id": "52dafeb6",
   "metadata": {},
   "source": [
    "## Implimentation Of Model"
   ]
  },
  {
   "cell_type": "code",
   "execution_count": 33,
   "id": "825ab4cc",
   "metadata": {},
   "outputs": [
    {
     "data": {
      "text/plain": [
       "Lasso(alpha=1)"
      ]
     },
     "execution_count": 33,
     "metadata": {},
     "output_type": "execute_result"
    }
   ],
   "source": [
    "from sklearn.linear_model import Lasso\n",
    "\n",
    "reg = Lasso(alpha=1)\n",
    "reg.fit(X_train, y_train)"
   ]
  },
  {
   "cell_type": "markdown",
   "id": "85a7f455",
   "metadata": {},
   "source": [
    "## Evaluating The Model"
   ]
  },
  {
   "cell_type": "code",
   "execution_count": 34,
   "id": "cc913fc5",
   "metadata": {},
   "outputs": [
    {
     "name": "stdout",
     "output_type": "stream",
     "text": [
      "MSE training set 23983.81\n",
      "MSE test set 28838.26\n"
     ]
    }
   ],
   "source": [
    "from sklearn.metrics import mean_squared_error\n",
    "\n",
    "# Training data\n",
    "pred_train = reg.predict(X_train)\n",
    "mse_train = mean_squared_error(y_train, pred_train)\n",
    "print('MSE training set', round(mse_train, 2))\n",
    "\n",
    "# Test data\n",
    "pred = reg.predict(X_test)\n",
    "mse_test =mean_squared_error(y_test, pred)\n",
    "print('MSE test set', round(mse_test, 2))"
   ]
  },
  {
   "cell_type": "code",
   "execution_count": 35,
   "id": "be98e8c5",
   "metadata": {},
   "outputs": [
    {
     "name": "stdout",
     "output_type": "stream",
     "text": [
      "Mean Absolute Error: 15.032213051734601\n",
      "Mean Squared Error: 28838.263025216238\n",
      "Root Mean Squared Error: 169.8183235849896\n"
     ]
    }
   ],
   "source": [
    "print('Mean Absolute Error:', metrics.mean_absolute_error(y_test,pred))\n",
    "print('Mean Squared Error:', metrics.mean_squared_error(y_test,pred))\n",
    "print('Root Mean Squared Error:', math.sqrt(metrics.mean_squared_error(y_test,pred)))"
   ]
  },
  {
   "cell_type": "markdown",
   "id": "353b7dcf",
   "metadata": {},
   "source": [
    "## k-fold cross validation"
   ]
  },
  {
   "cell_type": "code",
   "execution_count": 36,
   "id": "e01c3414",
   "metadata": {},
   "outputs": [
    {
     "data": {
      "text/plain": [
       "LassoCV(cv=5, max_iter=10000, random_state=0)"
      ]
     },
     "execution_count": 36,
     "metadata": {},
     "output_type": "execute_result"
    }
   ],
   "source": [
    "from sklearn.linear_model import LassoCV\n",
    "\n",
    "# Lasso with 5 fold cross-validation\n",
    "model = LassoCV(cv=5, random_state=0, max_iter=10000)\n",
    "\n",
    "# Fit model\n",
    "model.fit(X_train, y_train)"
   ]
  },
  {
   "cell_type": "code",
   "execution_count": 37,
   "id": "10f42808",
   "metadata": {},
   "outputs": [
    {
     "data": {
      "text/plain": [
       "21.7316257894155"
      ]
     },
     "execution_count": 37,
     "metadata": {},
     "output_type": "execute_result"
    }
   ],
   "source": [
    "model.alpha_"
   ]
  },
  {
   "cell_type": "markdown",
   "id": "4722af14",
   "metadata": {},
   "source": [
    "## Best Model For Lasso"
   ]
  },
  {
   "cell_type": "code",
   "execution_count": 38,
   "id": "fef766d9",
   "metadata": {},
   "outputs": [
    {
     "data": {
      "text/plain": [
       "Lasso(alpha=21.7316257894155)"
      ]
     },
     "execution_count": 38,
     "metadata": {},
     "output_type": "execute_result"
    }
   ],
   "source": [
    "lasso_best = Lasso(alpha=model.alpha_)\n",
    "lasso_best.fit(X_train, y_train)"
   ]
  },
  {
   "cell_type": "markdown",
   "id": "018823fb",
   "metadata": {},
   "source": [
    "# Random Forest Regressor"
   ]
  },
  {
   "cell_type": "code",
   "execution_count": 39,
   "id": "d66d7d72",
   "metadata": {},
   "outputs": [],
   "source": [
    "from sklearn.model_selection import train_test_split # for splitting the data\n",
    "from sklearn.metrics import mean_squared_error # for calculating the cost function\n",
    "from sklearn.ensemble import RandomForestRegressor # for building the model"
   ]
  },
  {
   "cell_type": "code",
   "execution_count": 40,
   "id": "1799922b",
   "metadata": {},
   "outputs": [],
   "source": [
    "from sklearn.model_selection import train_test_split\n",
    "X_train, X_test, y_train, y_test = train_test_split(X, y, test_size=0.20,random_state = 42)"
   ]
  },
  {
   "cell_type": "code",
   "execution_count": 41,
   "id": "d947c674",
   "metadata": {},
   "outputs": [],
   "source": [
    "model = RandomForestRegressor(n_estimators = 85, random_state = 0)"
   ]
  },
  {
   "cell_type": "code",
   "execution_count": 43,
   "id": "84231904",
   "metadata": {},
   "outputs": [
    {
     "data": {
      "text/plain": [
       "RandomForestRegressor(n_estimators=85, random_state=0)"
      ]
     },
     "execution_count": 43,
     "metadata": {},
     "output_type": "execute_result"
    }
   ],
   "source": [
    "# Fitting the Random Forest Regression model to the data\n",
    "model.fit(X_train, y_train) "
   ]
  },
  {
   "cell_type": "code",
   "execution_count": 45,
   "id": "b7f08db3",
   "metadata": {},
   "outputs": [],
   "source": [
    "y_pred1 = model.predict(X_test)"
   ]
  },
  {
   "cell_type": "markdown",
   "id": "8ac980eb",
   "metadata": {},
   "source": [
    "## Evaluating The Model"
   ]
  },
  {
   "cell_type": "code",
   "execution_count": 46,
   "id": "1ccb58ea",
   "metadata": {},
   "outputs": [
    {
     "name": "stdout",
     "output_type": "stream",
     "text": [
      "Mean Absolute Error: 9.00976676192824\n",
      "Mean Squared Error: 11265.253395701584\n",
      "Root Mean Squared Error: 106.13789801810465\n"
     ]
    }
   ],
   "source": [
    "print('Mean Absolute Error:', metrics.mean_absolute_error(y_test,y_pred1))\n",
    "print('Mean Squared Error:', metrics.mean_squared_error(y_test,y_pred1))\n",
    "print('Root Mean Squared Error:', math.sqrt(metrics.mean_squared_error(y_test,y_pred1)))"
   ]
  },
  {
   "cell_type": "markdown",
   "id": "cc53019b",
   "metadata": {},
   "source": [
    "# Hyperparameter Tuning"
   ]
  },
  {
   "cell_type": "code",
   "execution_count": null,
   "id": "3a480582",
   "metadata": {},
   "outputs": [],
   "source": [
    "from sklearn.model_selection import GridSearchCV\n",
    "rf = RandomForestRegressor()\n",
    "n_estimators=np.arange(5,100,20)\n",
    "param_grid = {'n_estimators': n_estimators,'max_depth': [10, 50, None], 'bootstrap': [True, False]}\n",
    "model = GridSearchCV(estimator = rf,param_grid=param_grid, cv = 5, verbose=2, n_jobs = -1)\n",
    "model.fit(X_train,y_train)\n",
    "model.best_params_"
   ]
  },
  {
   "cell_type": "markdown",
   "id": "d186e8d2",
   "metadata": {},
   "source": [
    "# KNN Regressor"
   ]
  },
  {
   "cell_type": "code",
   "execution_count": 48,
   "id": "89e09485",
   "metadata": {},
   "outputs": [],
   "source": [
    "from sklearn.neighbors import KNeighborsRegressor"
   ]
  },
  {
   "cell_type": "code",
   "execution_count": 56,
   "id": "aa30fbfc",
   "metadata": {},
   "outputs": [],
   "source": [
    "X_train, X_test, y_train, y_test = train_test_split(X, y, test_size=0.20,random_state = 42)"
   ]
  },
  {
   "cell_type": "markdown",
   "id": "a4efcc69",
   "metadata": {},
   "source": [
    "# Data Preprocessing"
   ]
  },
  {
   "cell_type": "code",
   "execution_count": 57,
   "id": "34e3b469",
   "metadata": {},
   "outputs": [],
   "source": [
    "from sklearn import neighbors\n",
    "from sklearn.metrics import mean_squared_error \n",
    "from math import sqrt\n",
    "import matplotlib.pyplot as plt\n",
    "%matplotlib inline"
   ]
  },
  {
   "cell_type": "code",
   "execution_count": 58,
   "id": "3e8cb1df",
   "metadata": {},
   "outputs": [
    {
     "name": "stdout",
     "output_type": "stream",
     "text": [
      "RMSE value for k=  1 is: 157.41803248314534\n",
      "RMSE value for k=  2 is: 160.33886686643356\n",
      "RMSE value for k=  3 is: 164.8718183132455\n",
      "RMSE value for k=  4 is: 161.6364276603481\n",
      "RMSE value for k=  5 is: 163.1101309966165\n",
      "RMSE value for k=  6 is: 166.73869668653927\n",
      "RMSE value for k=  7 is: 168.88180409710858\n",
      "RMSE value for k=  8 is: 171.4486557794011\n",
      "RMSE value for k=  9 is: 175.950352632393\n",
      "RMSE value for k=  10 is: 179.26894989903636\n",
      "RMSE value for k=  11 is: 183.54823157750053\n",
      "RMSE value for k=  12 is: 183.93294575797896\n",
      "RMSE value for k=  13 is: 188.55717553007358\n",
      "RMSE value for k=  14 is: 190.66831027768768\n",
      "RMSE value for k=  15 is: 194.24779212790006\n",
      "RMSE value for k=  16 is: 196.44101669705972\n",
      "RMSE value for k=  17 is: 198.07410544365666\n",
      "RMSE value for k=  18 is: 200.37353718403156\n",
      "RMSE value for k=  19 is: 202.5616147568574\n",
      "RMSE value for k=  20 is: 206.53234664287967\n"
     ]
    }
   ],
   "source": [
    "rmse_val = [] #to store rmse values for different k\n",
    "for K in range(20):\n",
    "    K = K+1\n",
    "    model = neighbors.KNeighborsRegressor(n_neighbors = K)\n",
    "\n",
    "    model.fit(X_train, y_train)  #fit the model\n",
    "    pred=model.predict(X_test) #make prediction on test set\n",
    "    error = sqrt(mean_squared_error(y_test,pred)) #calculate rmse\n",
    "    rmse_val.append(error) #store rmse values\n",
    "    print('RMSE value for k= ' , K , 'is:', error)"
   ]
  },
  {
   "cell_type": "code",
   "execution_count": 59,
   "id": "408db75b",
   "metadata": {},
   "outputs": [
    {
     "data": {
      "text/plain": [
       "KNeighborsRegressor(n_neighbors=15)"
      ]
     },
     "execution_count": 59,
     "metadata": {},
     "output_type": "execute_result"
    }
   ],
   "source": [
    "knn_reg = KNeighborsRegressor(n_neighbors=15)\n",
    "knn_reg.fit(X_train, y_train)"
   ]
  },
  {
   "cell_type": "code",
   "execution_count": 60,
   "id": "d5b94b36",
   "metadata": {},
   "outputs": [],
   "source": [
    "y_pred_knn = knn_reg.predict(X_test)"
   ]
  },
  {
   "cell_type": "code",
   "execution_count": 61,
   "id": "d70b6f15",
   "metadata": {},
   "outputs": [
    {
     "name": "stdout",
     "output_type": "stream",
     "text": [
      "Mean Absolute Error: 60.26588930909649\n",
      "Mean Squared Error: 37732.204746563875\n",
      "Root Mean Squared Error: 194.24779212790006\n"
     ]
    }
   ],
   "source": [
    "print('Mean Absolute Error:', metrics.mean_absolute_error(y_test,y_pred_knn))\n",
    "print('Mean Squared Error:', metrics.mean_squared_error(y_test,y_pred_knn))\n",
    "print('Root Mean Squared Error:', math.sqrt(metrics.mean_squared_error(y_test,y_pred_knn)))"
   ]
  },
  {
   "cell_type": "markdown",
   "id": "6a35b45c",
   "metadata": {},
   "source": [
    "# Hyperparameter Tuning"
   ]
  },
  {
   "cell_type": "code",
   "execution_count": 62,
   "id": "1f4f9e1c",
   "metadata": {},
   "outputs": [
    {
     "data": {
      "text/plain": [
       "{'n_neighbors': 2}"
      ]
     },
     "execution_count": 62,
     "metadata": {},
     "output_type": "execute_result"
    }
   ],
   "source": [
    "from sklearn.model_selection import GridSearchCV\n",
    "params = {'n_neighbors':[2,3,4,5,6,7,8,9]}\n",
    "\n",
    "knn = neighbors.KNeighborsRegressor()\n",
    "\n",
    "model = GridSearchCV(knn, params, cv=5)\n",
    "model.fit(X_train,y_train)\n",
    "model.best_params_"
   ]
  },
  {
   "cell_type": "markdown",
   "id": "3f4809a5",
   "metadata": {},
   "source": [
    "# Prediction"
   ]
  },
  {
   "cell_type": "code",
   "execution_count": 69,
   "id": "e2560b61",
   "metadata": {},
   "outputs": [],
   "source": [
    "\n",
    "y_pred1=Linear.predict(df_test)\n",
    "test_pred = pd.DataFrame(y_pred1,index=None)\n",
    "test_pred.to_csv('test_pred.txt',header = None, index=None)"
   ]
  },
  {
   "cell_type": "code",
   "execution_count": null,
   "id": "99995adc",
   "metadata": {},
   "outputs": [],
   "source": []
  }
 ],
 "metadata": {
  "kernelspec": {
   "display_name": "Python 3",
   "language": "python",
   "name": "python3"
  },
  "language_info": {
   "codemirror_mode": {
    "name": "ipython",
    "version": 3
   },
   "file_extension": ".py",
   "mimetype": "text/x-python",
   "name": "python",
   "nbconvert_exporter": "python",
   "pygments_lexer": "ipython3",
   "version": "3.8.8"
  }
 },
 "nbformat": 4,
 "nbformat_minor": 5
}
